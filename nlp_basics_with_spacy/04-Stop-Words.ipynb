{
 "cells": [
  {
   "attachments": {},
   "cell_type": "markdown",
   "metadata": {},
   "source": [
    "# Stop Words\n",
    "Words like \"a\" and \"the\" appear so frequently that they don't require tagging as thoroughly as nouns, verbs and modifiers. We call these *stop words*, and they can be filtered from the text to be processed. spaCy holds a built-in list of some 305 English stop words."
   ]
  },
  {
   "cell_type": "code",
   "execution_count": 1,
   "metadata": {},
   "outputs": [
    {
     "name": "stderr",
     "output_type": "stream",
     "text": [
      "2023-05-31 16:22:42.517803: I tensorflow/core/platform/cpu_feature_guard.cc:182] This TensorFlow binary is optimized to use available CPU instructions in performance-critical operations.\n",
      "To enable the following instructions: AVX2 FMA, in other operations, rebuild TensorFlow with the appropriate compiler flags.\n",
      "2023-05-31 16:22:43.792088: W tensorflow/compiler/tf2tensorrt/utils/py_utils.cc:38] TF-TRT Warning: Could not find TensorRT\n",
      "2023-05-31 16:22:45.199366: I tensorflow/compiler/xla/stream_executor/cuda/cuda_gpu_executor.cc:996] successful NUMA node read from SysFS had negative value (-1), but there must be at least one NUMA node, so returning NUMA node zero. See more at https://github.com/torvalds/linux/blob/v6.0/Documentation/ABI/testing/sysfs-bus-pci#L344-L355\n",
      "2023-05-31 16:22:45.230853: I tensorflow/compiler/xla/stream_executor/cuda/cuda_gpu_executor.cc:996] successful NUMA node read from SysFS had negative value (-1), but there must be at least one NUMA node, so returning NUMA node zero. See more at https://github.com/torvalds/linux/blob/v6.0/Documentation/ABI/testing/sysfs-bus-pci#L344-L355\n",
      "2023-05-31 16:22:45.231043: I tensorflow/compiler/xla/stream_executor/cuda/cuda_gpu_executor.cc:996] successful NUMA node read from SysFS had negative value (-1), but there must be at least one NUMA node, so returning NUMA node zero. See more at https://github.com/torvalds/linux/blob/v6.0/Documentation/ABI/testing/sysfs-bus-pci#L344-L355\n"
     ]
    }
   ],
   "source": [
    "# Perform standard imports:\n",
    "import spacy\n",
    "nlp = spacy.load('en_core_web_sm')"
   ]
  },
  {
   "cell_type": "code",
   "execution_count": 2,
   "metadata": {},
   "outputs": [
    {
     "name": "stdout",
     "output_type": "stream",
     "text": [
      "{'via', 'towards', '‘re', 'side', 'throughout', 'above', 'then', 'after', 'rather', 'us', 'amongst', 'any', 'being', 'just', 'third', 'myself', 'together', 'his', 'anyone', \"n't\", 'but', 'nine', \"'m\", 'and', 'becoming', 'him', '‘ve', 'forty', 'around', 'been', 'front', 'full', 'over', 'give', 'my', 'name', \"'ve\", 'other', 'ca', 'so', 'at', 'seems', 'very', 'well', 'wherever', 'whence', 'some', '‘s', 'back', 'toward', 'also', 'this', 'whereafter', 'whereupon', 'every', 'everything', 'bottom', 'because', 'elsewhere', 'since', 'once', 'please', 'nowhere', 'namely', 'behind', 'where', 'two', 'most', 'per', 'last', 'what', 'only', 'herself', 'somewhere', 'seeming', '’ve', 'it', 'ourselves', 'while', 'get', 'further', 'perhaps', 'ten', 'your', '‘ll', 'almost', 'do', 'the', 'go', \"'s\", 'done', 'mine', 'of', 'another', 'made', 'six', 'we', 'her', 'too', 'hundred', 'does', 'is', 'had', 'afterwards', 'seem', 'besides', 'someone', 'whose', 'however', 'enough', 'eight', 'from', 'nobody', 'to', 'whenever', '’ll', 'doing', 'using', 'something', 'than', 'twelve', 'therein', 'will', 'me', 'became', 'n‘t', 'make', 'may', '’d', 'by', 'no', 'see', 'now', 'herein', 'whereas', 'on', 'that', \"'d\", \"'re\", 'between', 'those', 'anything', 'himself', 'one', 'beside', 'formerly', 'various', 'onto', '‘m', 'against', 'or', 'next', 'whom', 'either', 'least', 'might', 'meanwhile', 'nothing', 'few', '‘d', 'our', '’s', 'thus', 'are', 'must', 'along', 'an', 'noone', 'quite', 'becomes', 'could', 'whoever', 'anyhow', 'anywhere', 'in', 'without', 'many', 'out', 'beforehand', 'first', 'thru', 'yourselves', 'show', 'sixty', 'itself', 'them', 'she', 'hereupon', 'except', 'yours', 'am', 'cannot', 'have', \"'ll\", 'due', 'five', 'can', 'hers', 'already', 'mostly', 'fifteen', 'which', 'fifty', 'about', 'down', 'hereby', 'was', 'ever', 'such', 'hereafter', 'under', 'beyond', 'its', 'always', 'during', 'for', 'others', 're', 'moreover', 'neither', 'off', 'empty', 'indeed', 'before', '’re', 'be', 'would', 'former', '’m', 'with', 'should', 'there', 'upon', 'these', 'you', 'until', 'who', 'how', 'not', 'say', 'hence', 'own', 'much', 'used', 'up', 'thereupon', 'all', 'sometimes', 'whatever', 'three', 'less', 'did', 'really', 'part', 'within', 'amount', 'when', 'eleven', 'though', 'never', 'thereafter', 'thence', 'call', 'through', 'across', 'why', 'here', 'twenty', 'nor', 'below', 'everyone', 'whereby', 'i', 'whole', 'four', 'as', 'therefore', 'although', 'has', 'each', 'keep', 'latter', 'whether', 'top', 'same', 'into', 'still', 'unless', 'anyway', 'again', 'if', 'everywhere', 'alone', 'a', 'their', 'he', 'seemed', 'wherein', 'n’t', 'serious', 'thereby', 'take', 'they', 'were', 'regarding', 'else', 'yourself', 'yet', 'whither', 'move', 'become', 'sometime', 'more', 'even', 'both', 'among', 'often', 'themselves', 'none', 'several', 'nevertheless', 'put', 'somehow', 'otherwise', 'ours', 'latterly'}\n"
     ]
    }
   ],
   "source": [
    "# Print the set of spaCy's default stop words (remember that sets are unordered):\n",
    "print(nlp.Defaults.stop_words)"
   ]
  },
  {
   "cell_type": "code",
   "execution_count": 3,
   "metadata": {},
   "outputs": [
    {
     "data": {
      "text/plain": [
       "326"
      ]
     },
     "execution_count": 3,
     "metadata": {},
     "output_type": "execute_result"
    }
   ],
   "source": [
    "len(nlp.Defaults.stop_words)"
   ]
  },
  {
   "attachments": {},
   "cell_type": "markdown",
   "metadata": {},
   "source": [
    "## To see if a word is a stop word"
   ]
  },
  {
   "cell_type": "code",
   "execution_count": 4,
   "metadata": {},
   "outputs": [
    {
     "data": {
      "text/plain": [
       "True"
      ]
     },
     "execution_count": 4,
     "metadata": {},
     "output_type": "execute_result"
    }
   ],
   "source": [
    "nlp.vocab['myself'].is_stop"
   ]
  },
  {
   "cell_type": "code",
   "execution_count": 5,
   "metadata": {},
   "outputs": [
    {
     "data": {
      "text/plain": [
       "False"
      ]
     },
     "execution_count": 5,
     "metadata": {},
     "output_type": "execute_result"
    }
   ],
   "source": [
    "nlp.vocab['mystery'].is_stop"
   ]
  },
  {
   "attachments": {},
   "cell_type": "markdown",
   "metadata": {},
   "source": [
    "## To add a stop word\n",
    "There may be times when you wish to add a stop word to the default set. Perhaps you decide that `'btw'` (common shorthand for \"by the way\") should be considered a stop word."
   ]
  },
  {
   "cell_type": "code",
   "execution_count": 6,
   "metadata": {},
   "outputs": [],
   "source": [
    "# Add the word to the set of stop words. Use lowercase!\n",
    "nlp.Defaults.stop_words.add('btw')\n",
    "\n",
    "# Set the stop_word tag on the lexeme\n",
    "nlp.vocab['btw'].is_stop = True"
   ]
  },
  {
   "cell_type": "code",
   "execution_count": 7,
   "metadata": {},
   "outputs": [
    {
     "data": {
      "text/plain": [
       "327"
      ]
     },
     "execution_count": 7,
     "metadata": {},
     "output_type": "execute_result"
    }
   ],
   "source": [
    "len(nlp.Defaults.stop_words)"
   ]
  },
  {
   "cell_type": "code",
   "execution_count": 8,
   "metadata": {},
   "outputs": [
    {
     "data": {
      "text/plain": [
       "True"
      ]
     },
     "execution_count": 8,
     "metadata": {},
     "output_type": "execute_result"
    }
   ],
   "source": [
    "nlp.vocab['btw'].is_stop"
   ]
  },
  {
   "attachments": {},
   "cell_type": "markdown",
   "metadata": {},
   "source": [
    "<font color=green>When adding stop words, always use lowercase. Lexemes are converted to lowercase before being added to **vocab**.</font>"
   ]
  },
  {
   "attachments": {},
   "cell_type": "markdown",
   "metadata": {},
   "source": [
    "## To remove a stop word\n",
    "Alternatively, you may decide that `'however'` should not be considered a stop word."
   ]
  },
  {
   "cell_type": "code",
   "execution_count": 9,
   "metadata": {},
   "outputs": [],
   "source": [
    "# Remove the word from the set of stop words\n",
    "nlp.Defaults.stop_words.remove('however')\n",
    "\n",
    "# Remove the stop_word tag from the lexeme\n",
    "nlp.vocab['however'].is_stop = False"
   ]
  },
  {
   "cell_type": "code",
   "execution_count": 10,
   "metadata": {},
   "outputs": [
    {
     "data": {
      "text/plain": [
       "326"
      ]
     },
     "execution_count": 10,
     "metadata": {},
     "output_type": "execute_result"
    }
   ],
   "source": [
    "len(nlp.Defaults.stop_words)"
   ]
  },
  {
   "cell_type": "code",
   "execution_count": 11,
   "metadata": {},
   "outputs": [
    {
     "data": {
      "text/plain": [
       "False"
      ]
     },
     "execution_count": 11,
     "metadata": {},
     "output_type": "execute_result"
    }
   ],
   "source": [
    "nlp.vocab['however'].is_stop"
   ]
  },
  {
   "attachments": {},
   "cell_type": "markdown",
   "metadata": {},
   "source": [
    "Great! Now you should be able to access spaCy's default set of stop words, and add or remove stop words as needed.\n",
    "## Next up: Vocabulary and Matching"
   ]
  }
 ],
 "metadata": {
  "kernelspec": {
   "display_name": "Python 3",
   "language": "python",
   "name": "python3"
  },
  "language_info": {
   "codemirror_mode": {
    "name": "ipython",
    "version": 3
   },
   "file_extension": ".py",
   "mimetype": "text/x-python",
   "name": "python",
   "nbconvert_exporter": "python",
   "pygments_lexer": "ipython3",
   "version": "3.10.6"
  }
 },
 "nbformat": 4,
 "nbformat_minor": 2
}
